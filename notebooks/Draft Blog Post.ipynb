{
 "cells": [
  {
   "cell_type": "markdown",
   "id": "2398d50e",
   "metadata": {},
   "source": [
    "## Draft Outline for Project Blog Post\n",
    "# Watersheds & Biodiversity: Implications of Soil Chemical Traits\n",
    "### Project: Fire Histories for Hydrologic Modeling (Watersheds and Biodiversity)\n",
    "### Name: Jennifer Kraft"
   ]
  },
  {
   "cell_type": "markdown",
   "id": "252a6120",
   "metadata": {},
   "source": [
    "## Project Overview\n",
    "\n",
    "The project aims to produce a classification system for landscapes surrounding a watershed from remote sensing data. The data collected were chemical signatures surrounding the Russian River Watershed in northern California. Using additional topographical maps, we create a reliable method for drawing conclusions about a landscape based on those chemicals. Although this project uses short range flight imaging, the future of chemical analysis lies in satellite technology, which will proliferate the amount of chemical data available. If we can contribute to the advancement of how to aggragate large amounts of chemical data efficiently, this project will be useful for future chemical analysis. The workflow in this repository is initially geared towards piecing together a mosaic of flight images, and ends with k-means clustering, as well as a correspondence analysis. The workflow may be useful to someone who is working with a geometric boundary within linear flight patterns.\n",
    "\n"
   ]
  },
  {
   "cell_type": "markdown",
   "id": "6b3d6ff3",
   "metadata": {},
   "source": [
    "## Workflow\n",
    "- Get data (topography, AVIRIS trait data, FPZ) and open it\n",
    "- Map rotation\n",
    "- Subset based on shapefile over russian river basin (https://drive.google.com/drive/u/0/folders/1jfn5OoUzdvN8KNuiY9iO1U9lKycXwfl_) \n",
    "- Focus on only: LMA, N, Non-struc Carbhydrates, Lignen, C, Canopy water\n",
    "- Mosaic the flightline data into a single geotiff (xarray/rio/gdal)\n",
    "    - Subset for clean image and smaller data\n",
    "    - Based on artifacts in mosaic and based on the drainage shapefile\n",
    "- Stack the mosaics together based on geolocation\n",
    "- K-means clustering (https://scikit-learn.org/stable/modules/generated/sklearn.cluster.KMeans.html)\n",
    "\n",
    "If time allows, further analysis steps include:\n",
    "- Correspondence analysis comparing K-means cluster to FPZ\n",
    "- Exploratory analysis to test assumptions: Statistics of clusters\n",
    "https://www.displayr.com/how-correspondence-analysis-works/ \n",
    "- Confusion matrix to compare categorical clusters \n",
    "\n",
    "The tools and packages needed to run this workflow include:\n",
    "\n",
    "- rioxarray\n",
    "- rasterio\n",
    "- xarray\n",
    "- numpy\n",
    "- matplotlib\n",
    "- osgeo\n",
    "- earthpy\n",
    "- geopandas\n"
   ]
  },
  {
   "cell_type": "markdown",
   "id": "41a91c36",
   "metadata": {},
   "source": [
    "## Results of analysis"
   ]
  },
  {
   "cell_type": "code",
   "execution_count": 4,
   "id": "7074ddc6",
   "metadata": {},
   "outputs": [],
   "source": [
    "## Show stacked tif here using Python\n",
    "\n",
    "## code goes here\n",
    "\n",
    "## output"
   ]
  },
  {
   "cell_type": "markdown",
   "id": "4580f430",
   "metadata": {},
   "source": [
    "#### Explanation\n",
    "Include paragraph explaining the stack and the chemical layers that are included."
   ]
  },
  {
   "cell_type": "code",
   "execution_count": 5,
   "id": "3b2357ef",
   "metadata": {},
   "outputs": [],
   "source": [
    "## Show kmeans analysis here using Python\n",
    "\n",
    "## code goes here\n",
    "\n",
    "## output"
   ]
  },
  {
   "cell_type": "markdown",
   "id": "7fd42219",
   "metadata": {},
   "source": [
    "#### Explanation\n",
    "Include paragraph explaining the kmeans output and the implications of this visual."
   ]
  },
  {
   "cell_type": "markdown",
   "id": "738ac058",
   "metadata": {},
   "source": [
    "## Why does it matter?\n",
    "\n",
    "Determinations made via analysis from this project may lead to the development of better informed hydrologic models, which could have implications for understanding and mitigating negative impacts of ecological disturbance events such as fires.\n"
   ]
  },
  {
   "cell_type": "markdown",
   "id": "2c4fbba8",
   "metadata": {},
   "source": [
    "## Where can you learn more?\n",
    "\n",
    "For more information on the workflows described above, you may contact Jennifer Kraft.\n",
    "For any other questions relating to the overall project, please contact the project lead, Natasha Stavros."
   ]
  },
  {
   "cell_type": "code",
   "execution_count": null,
   "id": "e540a883",
   "metadata": {},
   "outputs": [],
   "source": []
  }
 ],
 "metadata": {
  "kernelspec": {
   "display_name": "Python 3",
   "language": "python",
   "name": "python3"
  },
  "language_info": {
   "codemirror_mode": {
    "name": "ipython",
    "version": 3
   },
   "file_extension": ".py",
   "mimetype": "text/x-python",
   "name": "python",
   "nbconvert_exporter": "python",
   "pygments_lexer": "ipython3",
   "version": "3.8.8"
  }
 },
 "nbformat": 4,
 "nbformat_minor": 5
}
